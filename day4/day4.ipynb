{
 "cells": [
  {
   "cell_type": "code",
   "execution_count": 1,
   "metadata": {},
   "outputs": [],
   "source": [
    "data_path = 'input-4.txt'\n",
    "with open(data_path) as f:\n",
    "    sekcje = f.read().split('\\n')\n",
    "\n",
    "sekcje_clean = []\n",
    "for para in sekcje:\n",
    "    sekcje_clean.append(para.split(','))"
   ]
  },
  {
   "cell_type": "markdown",
   "metadata": {},
   "source": [
    "# zadanko 1"
   ]
  },
  {
   "cell_type": "code",
   "execution_count": 2,
   "metadata": {},
   "outputs": [
    {
     "data": {
      "text/plain": [
       "477"
      ]
     },
     "execution_count": 2,
     "metadata": {},
     "output_type": "execute_result"
    }
   ],
   "source": [
    "overlap = 0\n",
    "\n",
    "for para in sekcje_clean:\n",
    "    pierwszy_elf = para[0].split('-')\n",
    "    drugi_elf = para[1].split('-')\n",
    "    pierwszy_elf_poczatek = int(pierwszy_elf[0])\n",
    "    pierwszy_elf_koniec = int(pierwszy_elf[1])\n",
    "    drugi_elf_poczatek = int(drugi_elf[0])\n",
    "    drugi_elf_koniec = int(drugi_elf[1])\n",
    "\n",
    "\n",
    "    if pierwszy_elf_poczatek <= drugi_elf_poczatek and pierwszy_elf_koniec >= drugi_elf_koniec:\n",
    "        overlap +=1\n",
    "    elif drugi_elf_poczatek <= pierwszy_elf_poczatek and drugi_elf_koniec >= pierwszy_elf_koniec:\n",
    "        overlap +=1\n",
    "    else:\n",
    "        overlap +=0\n",
    "\n",
    "overlap"
   ]
  },
  {
   "cell_type": "markdown",
   "metadata": {},
   "source": [
    "# zadanko 2"
   ]
  },
  {
   "cell_type": "code",
   "execution_count": 31,
   "metadata": {},
   "outputs": [
    {
     "data": {
      "text/plain": [
       "170"
      ]
     },
     "execution_count": 31,
     "metadata": {},
     "output_type": "execute_result"
    }
   ],
   "source": [
    "counter = 0 # licze te co sie na pewno nie przecinaja\n",
    "\n",
    "for para in sekcje_clean:\n",
    "    pierwszy_elf = para[0].split('-')\n",
    "    drugi_elf = para[1].split('-')\n",
    "    pierwszy_elf_poczatek = int(pierwszy_elf[0])\n",
    "    pierwszy_elf_koniec = int(pierwszy_elf[1])\n",
    "    drugi_elf_poczatek = int(drugi_elf[0])\n",
    "    drugi_elf_koniec = int(drugi_elf[1])\n",
    "\n",
    "    if pierwszy_elf_koniec < drugi_elf_poczatek:\n",
    "        counter += 1\n",
    "    elif drugi_elf_koniec < pierwszy_elf_poczatek:\n",
    "        counter += 1\n",
    "    else: \n",
    "        counter += 0\n",
    "    \n",
    "counter"
   ]
  },
  {
   "cell_type": "code",
   "execution_count": 32,
   "metadata": {},
   "outputs": [
    {
     "data": {
      "text/plain": [
       "830"
      ]
     },
     "execution_count": 32,
     "metadata": {},
     "output_type": "execute_result"
    }
   ],
   "source": [
    "# ODP: to dopelnienie\n",
    "1000-170"
   ]
  }
 ],
 "metadata": {
  "kernelspec": {
   "display_name": "Python 3.10.2 64-bit ('3.10.2')",
   "language": "python",
   "name": "python3"
  },
  "language_info": {
   "codemirror_mode": {
    "name": "ipython",
    "version": 3
   },
   "file_extension": ".py",
   "mimetype": "text/x-python",
   "name": "python",
   "nbconvert_exporter": "python",
   "pygments_lexer": "ipython3",
   "version": "3.10.2"
  },
  "orig_nbformat": 4,
  "vscode": {
   "interpreter": {
    "hash": "f55e528daf2159710652d655ba3d77e1a017c9e66616d987a09493bb13c254ca"
   }
  }
 },
 "nbformat": 4,
 "nbformat_minor": 2
}
