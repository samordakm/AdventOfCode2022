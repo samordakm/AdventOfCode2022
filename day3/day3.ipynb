{
 "cells": [
  {
   "cell_type": "code",
   "execution_count": 1,
   "metadata": {},
   "outputs": [],
   "source": [
    "data_path = 'input-3.txt'\n",
    "with open(data_path) as f:\n",
    "    rucksacks = f.read().split('\\n')"
   ]
  },
  {
   "cell_type": "markdown",
   "metadata": {},
   "source": [
    "# zadanko 1"
   ]
  },
  {
   "cell_type": "code",
   "execution_count": 2,
   "metadata": {},
   "outputs": [],
   "source": [
    "from string import ascii_letters\n",
    "\n",
    "priority = {l:i+1 for i, l in enumerate(ascii_letters)}"
   ]
  },
  {
   "cell_type": "code",
   "execution_count": 15,
   "metadata": {},
   "outputs": [
    {
     "data": {
      "text/plain": [
       "8202"
      ]
     },
     "execution_count": 15,
     "metadata": {},
     "output_type": "execute_result"
    }
   ],
   "source": [
    "#8202\n",
    "\n",
    "p = 0\n",
    "for r in rucksacks:\n",
    "    compartment_length = len(r)//2\n",
    "    items_a = set(r[:compartment_length])\n",
    "    items_b = set(r[compartment_length:])\n",
    "    common = items_a.intersection(items_b)\n",
    "    common_item = list(common)[0]\n",
    "    p += priority[common_item]\n",
    "p"
   ]
  },
  {
   "cell_type": "markdown",
   "metadata": {},
   "source": [
    "# zadanko 2"
   ]
  },
  {
   "cell_type": "code",
   "execution_count": 10,
   "metadata": {},
   "outputs": [
    {
     "data": {
      "text/plain": [
       "2864"
      ]
     },
     "execution_count": 10,
     "metadata": {},
     "output_type": "execute_result"
    }
   ],
   "source": [
    "priority = {l:i+1 for i, l in enumerate(ascii_letters)}\n",
    "\n",
    "p = 0\n",
    "\n",
    "for i in range(0, len(rucksacks), 3):\n",
    "    group = rucksacks[i: i+3]\n",
    "    group_items = [set(b) for b in group]\n",
    "    common_item = group_items[0] & group_items[1] & group_items[2]\n",
    "    common_item = next(iter(common_item))\n",
    "    p += priority[common_item]\n",
    "p\n"
   ]
  }
 ],
 "metadata": {
  "kernelspec": {
   "display_name": "Python 3.10.2 64-bit ('3.10.2')",
   "language": "python",
   "name": "python3"
  },
  "language_info": {
   "codemirror_mode": {
    "name": "ipython",
    "version": 3
   },
   "file_extension": ".py",
   "mimetype": "text/x-python",
   "name": "python",
   "nbconvert_exporter": "python",
   "pygments_lexer": "ipython3",
   "version": "3.10.2"
  },
  "orig_nbformat": 4,
  "vscode": {
   "interpreter": {
    "hash": "f55e528daf2159710652d655ba3d77e1a017c9e66616d987a09493bb13c254ca"
   }
  }
 },
 "nbformat": 4,
 "nbformat_minor": 2
}
