{
 "cells": [
  {
   "cell_type": "code",
   "execution_count": 27,
   "metadata": {},
   "outputs": [],
   "source": [
    "data_path = 'input-5.txt'\n",
    "with open(data_path) as f:\n",
    "    ruchy = f.read().split('\\n')\n",
    "\n",
    "ruchy\n",
    "ruchy_clean = []\n",
    "for ruch in ruchy:\n",
    "    temp = ruch.split(' ')\n",
    "    temp_list = [int(temp[1]), int(temp[3]), int(temp[5])]\n",
    "    ruchy_clean.append(temp_list)"
   ]
  },
  {
   "cell_type": "code",
   "execution_count": 28,
   "metadata": {},
   "outputs": [],
   "source": [
    "#         [M]     [B]             [N]\n",
    "# [T]     [H]     [V] [Q]         [H]\n",
    "# [Q]     [N]     [H] [W] [T]     [Q]\n",
    "# [V]     [P] [F] [Q] [P] [C]     [R]\n",
    "# [C]     [D] [T] [N] [N] [L] [S] [J]\n",
    "# [D] [V] [W] [R] [M] [G] [R] [N] [D]\n",
    "# [S] [F] [Q] [Q] [F] [F] [F] [Z] [S]\n",
    "# [N] [M] [F] [D] [R] [C] [W] [T] [M]\n",
    "#  1   2   3   4   5   6   7   8   9 \n",
    "\n",
    "pierwszy1 = ['N', 'S', 'D', 'C', 'Y', 'Q', 'T']\n",
    "drugi2 = ['M', 'F', 'V']\n",
    "trzeci3 = ['F', 'Q', 'W', 'D', 'P', 'N', 'H', 'M']\n",
    "czwarty4 = ['D', 'Q', 'R', 'T', 'F']\n",
    "piaty5 = ['R', 'F', 'M', 'N', 'Q', 'H', 'V', 'B']\n",
    "szosty6 = ['C', 'F', 'G', 'N', 'P', 'W', 'Q']\n",
    "siodmy7 = ['W', 'F', 'R', 'L', 'C', 'T']\n",
    "osmy8 = ['T', 'Z', 'N', 'S']\n",
    "dziewiaty9 = ['M', 'S', 'D', 'J', 'R', 'Q', 'H', 'N']\n",
    "\n",
    "# ZABIERAMY OD KONCA LISTY \n",
    "# JEDEN PO DRUGIM\n"
   ]
  },
  {
   "cell_type": "code",
   "execution_count": 29,
   "metadata": {},
   "outputs": [
    {
     "data": {
      "text/plain": [
       "[['N', 'S', 'D', 'C', 'Y', 'Q', 'T'],\n",
       " ['M', 'F', 'V'],\n",
       " ['F', 'Q', 'W', 'D', 'P', 'N', 'H', 'M'],\n",
       " ['D', 'Q', 'R', 'T', 'F'],\n",
       " ['R', 'F', 'M', 'N', 'Q', 'H', 'V', 'B'],\n",
       " ['C', 'F', 'G', 'N', 'P', 'W', 'Q'],\n",
       " ['W', 'F', 'R', 'L', 'C', 'T'],\n",
       " ['T', 'Z', 'N', 'S'],\n",
       " ['M', 'S', 'D', 'J', 'R', 'Q', 'H', 'N']]"
      ]
     },
     "execution_count": 29,
     "metadata": {},
     "output_type": "execute_result"
    }
   ],
   "source": [
    "wejscie = [\n",
    "    pierwszy1, drugi2, trzeci3, czwarty4, piaty5,\n",
    "    szosty6, siodmy7, osmy8, dziewiaty9\n",
    "    ]\n",
    "wejscie"
   ]
  },
  {
   "cell_type": "markdown",
   "metadata": {},
   "source": [
    "# zadanko 1"
   ]
  },
  {
   "cell_type": "code",
   "execution_count": 30,
   "metadata": {},
   "outputs": [],
   "source": [
    "for ruch in ruchy_clean:\n",
    "    ile_wziac = ruch[0]\n",
    "    skad = ruch[1]\n",
    "    dokad = ruch[2]\n",
    "\n",
    "    counter = 0\n",
    "    for i in range(0, ile_wziac):\n",
    "        if wejscie[skad-1] != [] and counter <= ile_wziac:\n",
    "            wejscie[dokad-1].append(wejscie[skad-1].pop())\n",
    "            counter += 1\n",
    "    \n",
    "    if counter < ile_wziac:\n",
    "        print(ruch)\n"
   ]
  },
  {
   "cell_type": "code",
   "execution_count": 31,
   "metadata": {},
   "outputs": [
    {
     "data": {
      "text/plain": [
       "'FRDSQRRCD'"
      ]
     },
     "execution_count": 31,
     "metadata": {},
     "output_type": "execute_result"
    }
   ],
   "source": [
    "odp1 = []\n",
    "for stack in wejscie:\n",
    "    odp1.append(stack.pop())\n",
    "\n",
    "''.join(odp1)\n",
    "# ODP.: FRDSQRRCD"
   ]
  },
  {
   "cell_type": "markdown",
   "metadata": {},
   "source": [
    "# zadanko 2"
   ]
  },
  {
   "cell_type": "code",
   "execution_count": 35,
   "metadata": {},
   "outputs": [],
   "source": [
    "# reset wejscia\n",
    "pierwszy1 = ['N', 'S', 'D', 'C', 'Y', 'Q', 'T']\n",
    "drugi2 = ['M', 'F', 'V']\n",
    "trzeci3 = ['F', 'Q', 'W', 'D', 'P', 'N', 'H', 'M']\n",
    "czwarty4 = ['D', 'Q', 'R', 'T', 'F']\n",
    "piaty5 = ['R', 'F', 'M', 'N', 'Q', 'H', 'V', 'B']\n",
    "szosty6 = ['C', 'F', 'G', 'N', 'P', 'W', 'Q']\n",
    "siodmy7 = ['W', 'F', 'R', 'L', 'C', 'T']\n",
    "osmy8 = ['T', 'Z', 'N', 'S']\n",
    "dziewiaty9 = ['M', 'S', 'D', 'J', 'R', 'Q', 'H', 'N']\n",
    "\n",
    "wejscie = [\n",
    "    pierwszy1, drugi2, trzeci3, czwarty4, piaty5,\n",
    "    szosty6, siodmy7, osmy8, dziewiaty9\n",
    "    ]"
   ]
  },
  {
   "cell_type": "code",
   "execution_count": 36,
   "metadata": {},
   "outputs": [],
   "source": [
    "for ruch in ruchy_clean:\n",
    "    ile_wziac = ruch[0]\n",
    "    skad = ruch[1]\n",
    "    dokad = ruch[2]\n",
    "\n",
    "    if wejscie[skad-1] != []:\n",
    "        wejscie[dokad-1] = wejscie[dokad-1] + wejscie[skad-1][-ile_wziac:]\n",
    "        del wejscie[skad-1][-ile_wziac:]\n",
    "        "
   ]
  },
  {
   "cell_type": "code",
   "execution_count": 37,
   "metadata": {},
   "outputs": [
    {
     "data": {
      "text/plain": [
       "'HRFTQVWNN'"
      ]
     },
     "execution_count": 37,
     "metadata": {},
     "output_type": "execute_result"
    }
   ],
   "source": [
    "odp2 = []\n",
    "for stack in wejscie:\n",
    "    odp2.append(stack.pop())\n",
    "\n",
    "''.join(odp2)\n",
    "\n",
    "# ODP.: HRFTQVWNN"
   ]
  }
 ],
 "metadata": {
  "kernelspec": {
   "display_name": "Python 3.10.2 64-bit ('3.10.2')",
   "language": "python",
   "name": "python3"
  },
  "language_info": {
   "codemirror_mode": {
    "name": "ipython",
    "version": 3
   },
   "file_extension": ".py",
   "mimetype": "text/x-python",
   "name": "python",
   "nbconvert_exporter": "python",
   "pygments_lexer": "ipython3",
   "version": "3.10.2"
  },
  "orig_nbformat": 4,
  "vscode": {
   "interpreter": {
    "hash": "f55e528daf2159710652d655ba3d77e1a017c9e66616d987a09493bb13c254ca"
   }
  }
 },
 "nbformat": 4,
 "nbformat_minor": 2
}
